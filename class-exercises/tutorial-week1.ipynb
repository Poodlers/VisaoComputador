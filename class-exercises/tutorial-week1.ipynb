{
 "cells": [
  {
   "cell_type": "markdown",
   "metadata": {},
   "source": [
    "# Week 1: Introduction to OpenCV"
   ]
  },
  {
   "cell_type": "code",
   "execution_count": null,
   "metadata": {},
   "outputs": [],
   "source": [
    "# Requirements for this tutorial\n",
    "! pip install opencv-python\n",
    "! pip install numpy"
   ]
  },
  {
   "cell_type": "code",
   "execution_count": null,
   "metadata": {},
   "outputs": [],
   "source": [
    "# If you prefer, you can convert this notebook to a Python script by uncommenting the following command\n",
    "! pip install nbconvert\n",
    "! jupyter nbconvert --to script tutorial-week1.ipynb"
   ]
  },
  {
   "cell_type": "code",
   "execution_count": 2,
   "metadata": {},
   "outputs": [],
   "source": [
    "import cv2\n",
    "import numpy as np\n",
    "import os\n",
    "\n",
    "dataDir = './data'"
   ]
  },
  {
   "cell_type": "markdown",
   "metadata": {},
   "source": [
    "1. Images – read, write and display; ROIs"
   ]
  },
  {
   "cell_type": "code",
   "execution_count": 9,
   "metadata": {},
   "outputs": [],
   "source": [
    "# Opening an image\n",
    "img = cv2.imread(os.path.join(dataDir, 'ml.jpg'))\n",
    "\n",
    "# Showing the image\n",
    "cv2.imshow(\"ml.jpg\", img)\n",
    "\n",
    "# Waiting for user to press a key to close the image\n",
    "cv2.waitKey(0)\n",
    "\n",
    "# Close the window after user pressed a key\n",
    "cv2.destroyWindow(\"ml.jpg\")"
   ]
  },
  {
   "cell_type": "code",
   "execution_count": 3,
   "metadata": {},
   "outputs": [
    {
     "name": "stdout",
     "output_type": "stream",
     "text": [
      "height: 380\n",
      "width: 308\n",
      "channels: 3\n"
     ]
    }
   ],
   "source": [
    "# Check image size\n",
    "h, w, c = img.shape\n",
    "print(f'height: {h}')\n",
    "print(f'width: {w}')\n",
    "print(f'channels: {c}')"
   ]
  },
  {
   "cell_type": "code",
   "execution_count": 4,
   "metadata": {},
   "outputs": [
    {
     "data": {
      "text/plain": [
       "True"
      ]
     },
     "execution_count": 4,
     "metadata": {},
     "output_type": "execute_result"
    }
   ],
   "source": [
    "# Saving image in bmp format\n",
    "cv2.imwrite('ml_new.bmp', img)"
   ]
  },
  {
   "cell_type": "code",
   "execution_count": 15,
   "metadata": {},
   "outputs": [
    {
     "name": "stdout",
     "output_type": "stream",
     "text": [
      "Mouse coords:  196 122\n",
      "RGB VALUES:  [255 255 255]\n",
      "Mouse coords:  201 137\n",
      "RGB VALUES:  [255 255 255]\n"
     ]
    }
   ],
   "source": [
    "# Continue exercises 1 c)\n",
    "\n",
    "def alter_pixel_callback(event,x,y,flags,param):\n",
    "    global mouseX,mouseY\n",
    "    if event == cv2.EVENT_LBUTTONDBLCLK:\n",
    "        mouseX,mouseY = x,y\n",
    "        print(\"Mouse coords: \", mouseX, mouseY)\n",
    "        px = img[mouseY, mouseX]\n",
    "        print(\"RGB VALUES: \", px)\n",
    "        new_pixel = input(\"Enter new pixel value: \")\n",
    "        img[mouseY, mouseX] = list(new_pixel.split(\" \"))\n",
    "        cv2.imshow('image', img)\n",
    "\n",
    "cv2.namedWindow('image')\n",
    "cv2.setMouseCallback('image',alter_pixel_callback)\n",
    "# Showing the image\n",
    "cv2.imshow('image', img)\n",
    "\n",
    "cv2.waitKey(0)\n",
    "# Close the window after user pressed a key\n",
    "cv2.destroyWindow(\"image\")"
   ]
  },
  {
   "cell_type": "code",
   "execution_count": 19,
   "metadata": {},
   "outputs": [
    {
     "name": "stdout",
     "output_type": "stream",
     "text": [
      "Mouse coords:  36 263\n",
      "Mouse coords:  155 332\n",
      "Mouse coords:  72 29\n",
      "Mouse coords:  168 111\n",
      "Mouse coords:  177 304\n",
      "Mouse coords:  269 349\n",
      "Mouse coords:  196 60\n",
      "Mouse coords:  258 123\n",
      "Mouse coords:  200 23\n",
      "Mouse coords:  292 61\n",
      "Mouse coords:  115 251\n",
      "Mouse coords:  16 146\n"
     ]
    },
    {
     "ename": "error",
     "evalue": "OpenCV(4.4.0) D:\\Build\\OpenCV\\opencv-4.4.0\\modules\\imgcodecs\\src\\loadsave.cpp:738: error: (-215:Assertion failed) !_img.empty() in function 'cv::imwrite'\n",
     "output_type": "error",
     "traceback": [
      "\u001b[1;31m---------------------------------------------------------------------------\u001b[0m",
      "\u001b[1;31merror\u001b[0m                                     Traceback (most recent call last)",
      "\u001b[1;32mc:\\Users\\radio\\OneDrive\\Ambiente de Trabalho\\PwoGwammingUwU\\VC-EXERCICIOS\\tutorial-week1\\tutorial-week1.ipynb Cell 10\u001b[0m in \u001b[0;36mselect_points\u001b[1;34m(event, x, y, flags, param)\u001b[0m\n\u001b[0;32m     <a href='vscode-notebook-cell:/c%3A/Users/radio/OneDrive/Ambiente%20de%20Trabalho/PwoGwammingUwU/VC-EXERCICIOS/tutorial-week1/tutorial-week1.ipynb#X22sZmlsZQ%3D%3D?line=13'>14</a>\u001b[0m cv2\u001b[39m.\u001b[39mrectangle(img, (point1[\u001b[39m0\u001b[39m], point1[\u001b[39m1\u001b[39m]), (point2[\u001b[39m0\u001b[39m], point2[\u001b[39m1\u001b[39m]), (\u001b[39m0\u001b[39m, \u001b[39m255\u001b[39m, \u001b[39m0\u001b[39m), \u001b[39m2\u001b[39m)\n\u001b[0;32m     <a href='vscode-notebook-cell:/c%3A/Users/radio/OneDrive/Ambiente%20de%20Trabalho/PwoGwammingUwU/VC-EXERCICIOS/tutorial-week1/tutorial-week1.ipynb#X22sZmlsZQ%3D%3D?line=14'>15</a>\u001b[0m ROI \u001b[39m=\u001b[39m img[point1[\u001b[39m1\u001b[39m]:point2[\u001b[39m1\u001b[39m], point1[\u001b[39m0\u001b[39m]:point2[\u001b[39m0\u001b[39m]]\n\u001b[1;32m---> <a href='vscode-notebook-cell:/c%3A/Users/radio/OneDrive/Ambiente%20de%20Trabalho/PwoGwammingUwU/VC-EXERCICIOS/tutorial-week1/tutorial-week1.ipynb#X22sZmlsZQ%3D%3D?line=15'>16</a>\u001b[0m cv2\u001b[39m.\u001b[39;49mimwrite(\u001b[39m'\u001b[39;49m\u001b[39mROI.bmp\u001b[39;49m\u001b[39m'\u001b[39;49m, ROI)\n\u001b[0;32m     <a href='vscode-notebook-cell:/c%3A/Users/radio/OneDrive/Ambiente%20de%20Trabalho/PwoGwammingUwU/VC-EXERCICIOS/tutorial-week1/tutorial-week1.ipynb#X22sZmlsZQ%3D%3D?line=16'>17</a>\u001b[0m ROI_points \u001b[39m=\u001b[39m []\n\u001b[0;32m     <a href='vscode-notebook-cell:/c%3A/Users/radio/OneDrive/Ambiente%20de%20Trabalho/PwoGwammingUwU/VC-EXERCICIOS/tutorial-week1/tutorial-week1.ipynb#X22sZmlsZQ%3D%3D?line=17'>18</a>\u001b[0m cv2\u001b[39m.\u001b[39mimshow(\u001b[39m'\u001b[39m\u001b[39mimage\u001b[39m\u001b[39m'\u001b[39m, img)\n",
      "\u001b[1;31merror\u001b[0m: OpenCV(4.4.0) D:\\Build\\OpenCV\\opencv-4.4.0\\modules\\imgcodecs\\src\\loadsave.cpp:738: error: (-215:Assertion failed) !_img.empty() in function 'cv::imwrite'\n"
     ]
    }
   ],
   "source": [
    "# exercise 1 d)\n",
    "\n",
    "ROI_points = []\n",
    "\n",
    "def select_points(event,x,y,flags,param):\n",
    "    global ROI_points\n",
    "    if event == cv2.EVENT_LBUTTONDBLCLK:\n",
    "        mouseX,mouseY = x,y\n",
    "        print(\"Mouse coords: \", mouseX, mouseY)\n",
    "        ROI_points.append([mouseX, mouseY])\n",
    "        if len(ROI_points) == 2:\n",
    "            point1 = ROI_points[0]\n",
    "            point2 = ROI_points[1]\n",
    "            ROI = img[point1[1]:point2[1], point1[0]:point2[0]]\n",
    "            cv2.imwrite('ROI.bmp', ROI)\n",
    "            cv2.rectangle(img, (point1[0], point1[1]), (point2[0], point2[1]), (0, 255, 0), 2)\n",
    "            ROI_points = []\n",
    "            cv2.imshow('image', img)\n",
    "cv2.namedWindow('image')\n",
    "cv2.setMouseCallback('image',select_points)\n",
    "# Showing the image\n",
    "cv2.imshow('image', img)\n",
    "\n",
    "cv2.waitKey(0)\n",
    "# Close the window after user pressed a key\n",
    "cv2.destroyWindow(\"image\")\n"
   ]
  },
  {
   "cell_type": "markdown",
   "metadata": {},
   "source": [
    "2. Images – representation, grayscale and color, color spaces"
   ]
  },
  {
   "cell_type": "code",
   "execution_count": 22,
   "metadata": {},
   "outputs": [],
   "source": [
    "# Create a white image\n",
    "m = np.ones((100,200,1), np.uint8)\n",
    "\n",
    "# Change the intensity to 100\n",
    "m = m * 100\n",
    "\n",
    "# Display the image\n",
    "cv2.imshow('Grayscale image', m)\n",
    "cv2.waitKey(0)\n",
    "cv2.destroyWindow('Grayscale image')"
   ]
  },
  {
   "cell_type": "code",
   "execution_count": 23,
   "metadata": {},
   "outputs": [],
   "source": [
    "# Draw a line with thickness of 5 px\n",
    "cv2.line(m, (0,0), (100,200), 255, 5)\n",
    "cv2.line(m, (200, 0), (0, 100), 255, 5)\n",
    "cv2.imshow('Grayscale image with diagonals', m)\n",
    "cv2.waitKey(0)\n",
    "cv2.destroyWindow('Grayscale image with diagonals')"
   ]
  },
  {
   "cell_type": "code",
   "execution_count": 26,
   "metadata": {},
   "outputs": [
    {
     "name": "stdout",
     "output_type": "stream",
     "text": [
      "[[[0]\n",
      "  [0]\n",
      "  [0]\n",
      "  ...\n",
      "  [0]\n",
      "  [0]\n",
      "  [0]]\n",
      "\n",
      " [[0]\n",
      "  [0]\n",
      "  [0]\n",
      "  ...\n",
      "  [0]\n",
      "  [0]\n",
      "  [0]]\n",
      "\n",
      " [[0]\n",
      "  [0]\n",
      "  [0]\n",
      "  ...\n",
      "  [0]\n",
      "  [0]\n",
      "  [0]]\n",
      "\n",
      " ...\n",
      "\n",
      " [[0]\n",
      "  [0]\n",
      "  [0]\n",
      "  ...\n",
      "  [0]\n",
      "  [0]\n",
      "  [0]]\n",
      "\n",
      " [[0]\n",
      "  [0]\n",
      "  [0]\n",
      "  ...\n",
      "  [0]\n",
      "  [0]\n",
      "  [0]]\n",
      "\n",
      " [[0]\n",
      "  [0]\n",
      "  [0]\n",
      "  ...\n",
      "  [0]\n",
      "  [0]\n",
      "  [0]]]\n"
     ]
    }
   ],
   "source": [
    "# Continue exercises 2 b), c), d), e) and f)\n",
    "# Create a white image\n",
    "m = np.zeros((100,200,1), np.uint8)\n",
    "\n",
    "# Change the intensity to 100\n",
    "m = m * 100\n",
    "\n",
    "# Display the image\n",
    "cv2.imshow('Grayscale image', m)\n",
    "cv2.waitKey(0)\n",
    "cv2.destroyWindow('Grayscale image')"
   ]
  },
  {
   "cell_type": "markdown",
   "metadata": {},
   "source": [
    "3. Video – acquisition and simple processing"
   ]
  },
  {
   "cell_type": "code",
   "execution_count": 2,
   "metadata": {},
   "outputs": [],
   "source": [
    "# Define a VideoCapture Object\n",
    "cap = cv2.VideoCapture(0)\n",
    "if not cap.isOpened():\n",
    "    print(\"Cannot open camera\")\n",
    "    exit()\n",
    "\n",
    "frame_nr = 0\n",
    "while True:\n",
    "    # Capture frame-by-frame\n",
    "    ret, frame = cap.read()\n",
    "    \n",
    "    # If frame is read correctly ret is True\n",
    "    if not ret:\n",
    "        print(\"Can't receive frame (stream end?). Exiting ...\")\n",
    "        break\n",
    "\n",
    "    # Display the resulting frame\n",
    "    cv2.imshow('webcam', frame)\n",
    "\n",
    "    # Wait for user to press s to save frame\n",
    "    if cv2.waitKey(1) == ord('s'):\n",
    "        frame_name = 'frame' + str(frame_nr) + '.png'\n",
    "        cv2.imwrite(frame_name, frame)\n",
    "        cv2.imshow(\"Saved frame: \" + frame_name, frame)\n",
    "        cv2.waitKey(0)\n",
    "        cv2.destroyWindow(\"Saved frame: \" + frame_name)\n",
    "\n",
    "    # Wait for user to press q to quit\n",
    "    if cv2.waitKey(1) == ord('q'):\n",
    "        break\n",
    "\n",
    "    frame_nr += 1\n",
    "\n",
    "# When everything is done, release the capture\n",
    "cap.release()\n",
    "cv2.destroyAllWindows()"
   ]
  },
  {
   "cell_type": "code",
   "execution_count": 3,
   "metadata": {},
   "outputs": [],
   "source": [
    "# Continue exercises 3 b)\n",
    "\n",
    "# Define a VideoCapture Object\n",
    "cap = cv2.VideoCapture(0)\n",
    "\n",
    "\n",
    "if not cap.isOpened():\n",
    "    print(\"Cannot open camera\")\n",
    "    exit()\n",
    "\n",
    "frame_nr = 0\n",
    "while True:\n",
    "    # Capture frame-by-frame\n",
    "    ret, frame = cap.read()\n",
    "    \n",
    "    # If frame is read correctly ret is True\n",
    "    if not ret:\n",
    "        print(\"Can't receive frame (stream end?). Exiting ...\")\n",
    "        break\n",
    "\n",
    "    # Display the resulting frame\n",
    "    cv2.imshow('webcam', frame)\n",
    "\n",
    "    gray = cv2.cvtColor(frame, cv2.COLOR_BGR2GRAY)\n",
    "    cv2.imshow('Grayscale image', gray)\n",
    "\n",
    "    # Wait for user to press s to save frame\n",
    "    if cv2.waitKey(1) == ord('s'):\n",
    "        frame_name = 'frame' + str(frame_nr) + '.png'\n",
    "        cv2.imwrite(frame_name, frame)\n",
    "        cv2.imshow(\"Saved frame: \" + frame_name, frame)\n",
    "        cv2.waitKey(0)\n",
    "        cv2.destroyWindow(\"Saved frame: \" + frame_name)\n",
    "\n",
    "    # Wait for user to press q to quit\n",
    "    if cv2.waitKey(1) == ord('q'):\n",
    "        break\n",
    "\n",
    "    frame_nr += 1\n",
    "\n",
    "# When everything is done, release the capture\n",
    "cap.release()\n",
    "cv2.destroyAllWindows()"
   ]
  },
  {
   "cell_type": "code",
   "execution_count": 4,
   "metadata": {},
   "outputs": [],
   "source": [
    "# Continue exercises 3 c)\n",
    "\n",
    "# Define a VideoCapture Object\n",
    "cap = cv2.VideoCapture(0)\n",
    "\n",
    "\n",
    "if not cap.isOpened():\n",
    "    print(\"Cannot open camera\")\n",
    "    exit()\n",
    "\n",
    "frame_nr = 0\n",
    "while True:\n",
    "    # Capture frame-by-frame\n",
    "    ret, frame = cap.read()\n",
    "    \n",
    "    # If frame is read correctly ret is True\n",
    "    if not ret:\n",
    "        print(\"Can't receive frame (stream end?). Exiting ...\")\n",
    "        break\n",
    "\n",
    "    # Display the resulting frame\n",
    "    cv2.imshow('webcam', frame)\n",
    "\n",
    "    gray = cv2.cvtColor(frame, cv2.COLOR_BGR2GRAY)\n",
    "\n",
    "    ret,thresh = cv2.threshold(gray,128,255,cv2.THRESH_BINARY)\n",
    "\n",
    "    cv2.imshow('Grayscale image', thresh)\n",
    "\n",
    "    # Wait for user to press s to save frame\n",
    "    if cv2.waitKey(1) == ord('s'):\n",
    "        frame_name = 'frame' + str(frame_nr) + '.png'\n",
    "        cv2.imwrite(frame_name, frame)\n",
    "        cv2.imshow(\"Saved frame: \" + frame_name, frame)\n",
    "        cv2.waitKey(0)\n",
    "        cv2.destroyWindow(\"Saved frame: \" + frame_name)\n",
    "\n",
    "    # Wait for user to press q to quit\n",
    "    if cv2.waitKey(1) == ord('q'):\n",
    "        break\n",
    "\n",
    "    frame_nr += 1\n",
    "\n",
    "# When everything is done, release the capture\n",
    "cap.release()\n",
    "cv2.destroyAllWindows()"
   ]
  },
  {
   "cell_type": "code",
   "execution_count": 9,
   "metadata": {},
   "outputs": [],
   "source": [
    "# Continue exercises 3 d)\n",
    "\n",
    "# Define a VideoCapture Object\n",
    "cap = cv2.VideoCapture(0)\n",
    "\n",
    "\n",
    "if not cap.isOpened():\n",
    "    print(\"Cannot open camera\")\n",
    "    exit()\n",
    "\n",
    "frame_nr = 0\n",
    "while True:\n",
    "    # Capture frame-by-frame\n",
    "    ret, frame = cap.read()\n",
    "    \n",
    "    # If frame is read correctly ret is True\n",
    "    if not ret:\n",
    "        print(\"Can't receive frame (stream end?). Exiting ...\")\n",
    "        break\n",
    "\n",
    "\n",
    "    hsv = cv2.cvtColor(frame, cv2.COLOR_BGR2HSV)\n",
    "    # define range of color in HSV\n",
    "\n",
    "    \n",
    "    lower_black =  np.array([0,0,0])\n",
    "    upper_black =  np.array([0,0,50])\n",
    "\n",
    "    lower_white =  np.array([0,0,50])\n",
    "    upper_white =  np.array([0,0,255])\n",
    "\n",
    "    lower_blue = np.array([110,50,50])\n",
    "    upper_blue = np.array([130,255,255])\n",
    "    # Threshold the HSV image to get only blue colors\n",
    "    mask = cv2.inRange(hsv, lower_black, upper_black)\n",
    "\n",
    "    # Bitwise-AND mask and original image\n",
    "    res = cv2.bitwise_and(frame,frame, mask= mask)\n",
    "    # Display the resulting frame\n",
    "    cv2.imshow('webcam', frame)\n",
    "    cv2.imshow('mask',mask)\n",
    "    cv2.imshow('res',res)\n",
    "    \n",
    "\n",
    "    # Wait for user to press q to quit\n",
    "    if cv2.waitKey(1) == ord('q'):\n",
    "        break\n",
    "\n",
    "    frame_nr += 1\n",
    "\n",
    "# When everything is done, release the capture\n",
    "cap.release()\n",
    "cv2.destroyAllWindows()"
   ]
  },
  {
   "cell_type": "code",
   "execution_count": 8,
   "metadata": {},
   "outputs": [],
   "source": [
    "#exercises 4 a)\n",
    "\n",
    "#read an image with openCV \n",
    "img = cv2.imread('data/noisy_dog.png', cv2.IMREAD_COLOR)\n",
    "cv2.imshow('original noisy_dog', img)\n",
    "\n",
    "dog_with_mean_filter = cv2.blur(img, (3, 3))\n",
    "\n",
    "cv2.imshow('dog_with_mean_filter', dog_with_mean_filter)\n",
    "\n",
    "dog_with_gaussian_filter = cv2.GaussianBlur(img, (3, 3), 0)\n",
    "\n",
    "cv2.imshow('dog_with_gaussian_filter', dog_with_gaussian_filter)\n",
    "\n",
    "dog_with_median_filter = cv2.medianBlur(img, 3)\n",
    "\n",
    "cv2.imshow('dog_with_median_filter', dog_with_median_filter)\n",
    "\n",
    "diameter_pixel_neighbourhood = 5\n",
    "dog_with_bilateralFilter = cv2.bilateralFilter(img, diameter_pixel_neighbourhood, diameter_pixel_neighbourhood * 2, diameter_pixel_neighbourhood / 2)\n",
    "\n",
    "cv2.imshow('dog_with_bilateralFilter', dog_with_bilateralFilter)\n",
    "\n",
    "# Waiting for user to press a key to close the image\n",
    "cv2.waitKey(0)\n",
    "\n",
    "# Close the window after user pressed a key\n",
    "cv2.destroyAllWindows()"
   ]
  },
  {
   "cell_type": "code",
   "execution_count": 15,
   "metadata": {},
   "outputs": [
    {
     "name": "stdout",
     "output_type": "stream",
     "text": [
      "[[0.0625 0.125  0.0625]\n",
      " [0.125  0.25   0.125 ]\n",
      " [0.0625 0.125  0.0625]]\n"
     ]
    }
   ],
   "source": [
    "#filter defined by me\n",
    "\n",
    "import os\n",
    "from matplotlib import pyplot as plt\n",
    "from scipy import ndimage\n",
    "\n",
    "\n",
    "img = cv2.imread('data/noisy_dog.png', cv2.IMREAD_COLOR)\n",
    "# Convert to grayscale if needed\n",
    "img = cv2.cvtColor(img,  cv2.COLOR_BGR2GRAY) \n",
    "# Smooth us ing O penC V Gaus s ianBlur()\n",
    "gaussianBlurred = cv2.GaussianBlur(img, (3 ,3 ), 0 )\n",
    "# Smooth using convolution operation coded below\n",
    "kernel_3x3 = (1/16) * np.array([[1 , 2 , 1 ],[2 , 4 , 2 ],[1 , 2 , 1 ]])\n",
    "print(kernel_3x3)\n",
    "\n",
    "myConvolutionResult = ndimage.convolve(img, kernel_3x3 )\n",
    "# Show res ults\n",
    "cv2.imshow(\"Original\" , img)\n",
    "cv2.imshow(\"OpenCV Gaussian Blur\" , gaussianBlurred)\n",
    "cv2.imshow(\"My 3 x3 convolution w/Gaussian mask\" , myConvolutionResult)\n",
    "cv2.waitKey(0 )\n",
    "cv2.destroyAllWindows()"
   ]
  },
  {
   "cell_type": "code",
   "execution_count": 10,
   "metadata": {},
   "outputs": [
    {
     "data": {
      "image/png": "[encoded data removed]",
      "text/plain": [
       "<Figure size 432x288 with 1 Axes>"
      ]
     },
     "metadata": {
      "needs_background": "light"
     },
     "output_type": "display_data"
    }
   ],
   "source": [
    "#exercise 5 a)\n",
    "from matplotlib import pyplot as plt\n",
    "\n",
    "#read an image with openCV\n",
    "\n",
    "img = cv2.imread('data/low_contrast_lena.png',0)\n",
    "hist,bins = np.histogram(img.flatten(),256,[0,256])\n",
    "cdf = hist.cumsum()\n",
    "cdf_normalized = cdf * float(hist.max()) / cdf.max()\n",
    "plt.plot(cdf_normalized, color = 'b')\n",
    "plt.hist(img.flatten(),256,[0,256], color = 'r')\n",
    "plt.xlim([0,256])\n",
    "plt.legend(('cdf','histogram'), loc = 'upper left')\n",
    "plt.show()\n",
    "\n",
    "# Waiting for user to press a key to close the image\n",
    "cv2.waitKey(0)\n",
    "\n",
    "# Close the window after user pressed a key\n",
    "cv2.destroyAllWindows()"
   ]
  },
  {
   "cell_type": "code",
   "execution_count": 2,
   "metadata": {},
   "outputs": [],
   "source": [
    "#exercise 5. b1\n",
    "img = cv2.imread('data/low_contrast_lena.png',0)\n",
    "\n",
    "equ = cv2.equalizeHist(img)\n",
    "res = np.hstack((img,equ)) #stacking images side-by-side\n",
    "cv2.imshow('res.png',res)\n",
    "\n",
    "# Waiting for user to press a key to close the image\n",
    "cv2.waitKey(0)\n",
    "\n",
    "# Close the window after user pressed a key\n",
    "cv2.destroyAllWindows()"
   ]
  },
  {
   "cell_type": "code",
   "execution_count": 7,
   "metadata": {},
   "outputs": [],
   "source": [
    "\n",
    "#exercise 5. b2\n",
    "img = cv2.imread('data/clahe_1.jpg',0)\n",
    "\n",
    "clahe = cv2.createCLAHE(clipLimit=2.0, tileGridSize=(8,8))\n",
    "cl1 = clahe.apply(img)\n",
    "\n",
    "cv2.imwrite('clahe_2.jpg',cl1)\n",
    "\n",
    "# Waiting for user to press a key to close the image\n",
    "cv2.waitKey(0)\n",
    "\n",
    "# Close the window after user pressed a key\n",
    "cv2.destroyAllWindows()"
   ]
  },
  {
   "cell_type": "code",
   "execution_count": 8,
   "metadata": {},
   "outputs": [],
   "source": [
    "#exercise 5 c.\n",
    "\n",
    "def histogram_equalization(img_in):\n",
    "# segregate color streams\n",
    "    b,g,r = cv2.split(img_in)\n",
    "    h_b, bin_b = np.histogram(b.flatten(), 256, [0, 256])\n",
    "    h_g, bin_g = np.histogram(g.flatten(), 256, [0, 256])\n",
    "    h_r, bin_r = np.histogram(r.flatten(), 256, [0, 256])\n",
    "# calculate cdf    \n",
    "    cdf_b = np.cumsum(h_b)  \n",
    "    cdf_g = np.cumsum(h_g)\n",
    "    cdf_r = np.cumsum(h_r)\n",
    "    \n",
    "# mask all pixels with value=0 and replace it with mean of the pixel values \n",
    "    cdf_m_b = np.ma.masked_equal(cdf_b,0)\n",
    "    cdf_m_b = (cdf_m_b - cdf_m_b.min())*255/(cdf_m_b.max()-cdf_m_b.min())\n",
    "    cdf_final_b = np.ma.filled(cdf_m_b,0).astype('uint8')\n",
    "  \n",
    "    cdf_m_g = np.ma.masked_equal(cdf_g,0)\n",
    "    cdf_m_g = (cdf_m_g - cdf_m_g.min())*255/(cdf_m_g.max()-cdf_m_g.min())\n",
    "    cdf_final_g = np.ma.filled(cdf_m_g,0).astype('uint8')\n",
    "    cdf_m_r = np.ma.masked_equal(cdf_r,0)\n",
    "    cdf_m_r = (cdf_m_r - cdf_m_r.min())*255/(cdf_m_r.max()-cdf_m_r.min())\n",
    "    cdf_final_r = np.ma.filled(cdf_m_r,0).astype('uint8')\n",
    "# merge the images in the three channels\n",
    "    img_b = cdf_final_b[b]\n",
    "    img_g = cdf_final_g[g]\n",
    "    img_r = cdf_final_r[r]\n",
    "  \n",
    "    img_out = cv2.merge((img_b, img_g, img_r))\n",
    "# validation\n",
    "    equ_b = cv2.equalizeHist(b)\n",
    "    equ_g = cv2.equalizeHist(g)\n",
    "    equ_r = cv2.equalizeHist(r)\n",
    "    equ = cv2.merge((equ_b, equ_g, equ_r))\n",
    "    #cv2.imwrite('output_name.png', equ)\n",
    "    return img_out\n",
    "\n",
    "\n",
    "img = cv2.imread('data/he_color1.jpg')\n",
    "\n",
    "equ = histogram_equalization(img)\n",
    "res = np.hstack((img,equ)) #stacking images side-by-side\n",
    "cv2.imshow('res.png',res)\n",
    "\n",
    "# Waiting for user to press a key to close the image\n",
    "cv2.waitKey(0)\n",
    "\n",
    "# Close the window after user pressed a key\n",
    "cv2.destroyAllWindows()"
   ]
  },
  {
   "cell_type": "code",
   "execution_count": 3,
   "metadata": {},
   "outputs": [
    {
     "name": "stdout",
     "output_type": "stream",
     "text": [
      "(256, 256)\n",
      "(256, 256)\n"
     ]
    }
   ],
   "source": [
    "#exercise 6 a)\n",
    "\n",
    "ddepth = cv2.CV_16S\n",
    "scale = 1\n",
    "delta = 0\n",
    "\n",
    "img = cv2.imread('data/low_contrast_lena.png',0)\n",
    "\n",
    "# apply gaussian before Sobel\n",
    "\n",
    "\n",
    "\n",
    "grad_x = cv2.Sobel(img, ddepth, 1, 0, ksize=3, scale=scale, delta=delta, borderType=cv2.BORDER_DEFAULT)\n",
    "grad_y = cv2.Sobel(img, ddepth, 0, 1, ksize=3, scale=scale, delta=delta, borderType=cv2.BORDER_DEFAULT)\n",
    "\n",
    "print(grad_x.shape)\n",
    "print(grad_y.shape)"
   ]
  },
  {
   "cell_type": "code",
   "execution_count": 4,
   "metadata": {},
   "outputs": [],
   "source": [
    "# exercise 6 b) and c)\n",
    "\n",
    "abs_grad_x = cv2.convertScaleAbs(grad_x)\n",
    "abs_grad_y = cv2.convertScaleAbs(grad_y)\n",
    "    \n",
    "    \n",
    "grad = cv2.addWeighted(abs_grad_x, 0.5, abs_grad_y, 0.5, 0)\n",
    "\n",
    "cv2.imshow('Sobel', grad)\n",
    "cv2.waitKey(0)\n",
    "cv2.destroyAllWindows()\n"
   ]
  },
  {
   "cell_type": "code",
   "execution_count": 9,
   "metadata": {},
   "outputs": [],
   "source": [
    "# exercise 6 d)\n",
    "\n",
    "window_name = \"Threshold_bar\"\n",
    "max_value = 255\n",
    "max_type = 4\n",
    "max_binary_value = 255\n",
    "trackbar_type = 'Type: \\n 0: Binary \\n 1: Binary Inverted \\n 2: Truncate \\n 3: To Zero \\n 4: To Zero Inverted'\n",
    "trackbar_value = 'Value'\n",
    "\n",
    "def threshold_demo(val):\n",
    "    #0: Binary\n",
    "    #1: Binary Inverted\n",
    "    #2: Threshold Truncated\n",
    "    #3: Threshold to Zero\n",
    "    #4: Threshold to Zero Inverted\n",
    "    threshold_type = cv2.getTrackbarPos(trackbar_type, window_name)\n",
    "    threshold_value = cv2.getTrackbarPos(trackbar_value, window_name)\n",
    "    _, dst = cv2.threshold(src_gray, threshold_value, max_binary_value, threshold_type )\n",
    "    cv2.imshow(window_name, dst)\n",
    "\n",
    "\n",
    "src = cv2.imread('data/low_contrast_lena.png', cv2.IMREAD_COLOR)\n",
    "\n",
    "# Convert the image to Gray\n",
    "src_gray = grad\n",
    "\n",
    "cv2.namedWindow(window_name)\n",
    "cv2.createTrackbar(trackbar_type, window_name , 3, max_type, threshold_demo)\n",
    "# Create Trackbar to choose Threshold value\n",
    "cv2.createTrackbar(trackbar_value, window_name , 0, max_value, threshold_demo)\n",
    "# Call the function to initialize\n",
    "threshold_demo(0)\n",
    "# Wait until user finishes program\n",
    "cv2.waitKey(0)\n",
    "cv2.destroyAllWindows()"
   ]
  }
 ],
 "metadata": {
  "kernelspec": {
   "display_name": "Python 3",
   "language": "python",
   "name": "python3"
  },
  "language_info": {
   "codemirror_mode": {
    "name": "ipython",
    "version": 3
   },
   "file_extension": ".py",
   "mimetype": "text/x-python",
   "name": "python",
   "nbconvert_exporter": "python",
   "pygments_lexer": "ipython3",
   "version": "3.8.3"
  },
  "orig_nbformat": 2,
  "vscode": {
   "interpreter": {
    "hash": "9650cb4e16cdd4a8e8e2d128bf38d875813998db22a3c986335f89e0cb4d7bb2"
   }
  }
 },
 "nbformat": 4,
 "nbformat_minor": 2
}
