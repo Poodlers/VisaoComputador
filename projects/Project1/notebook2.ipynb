{
 "cells": [
  {
   "attachments": {},
   "cell_type": "markdown",
   "metadata": {},
   "source": [
    "## Importing necessary modules\n"
   ]
  },
  {
   "cell_type": "code",
   "execution_count": 1,
   "metadata": {},
   "outputs": [],
   "source": [
    "import cv2\n",
    "import matplotlib.pyplot as plt\n",
    "import numpy as np"
   ]
  },
  {
   "cell_type": "code",
   "execution_count": 2,
   "metadata": {},
   "outputs": [],
   "source": [
    "img_src_4_points = cv2.imread(\"images/homography_1.jpg\")\n",
    "resize_parameter = 1.3\n",
    "plane_size = (round(130 * resize_parameter),round(160 * resize_parameter))\n"
   ]
  },
  {
   "attachments": {},
   "cell_type": "markdown",
   "metadata": {},
   "source": [
    "## Interface to select points and input their real coordinates"
   ]
  },
  {
   "cell_type": "code",
   "execution_count": 3,
   "metadata": {},
   "outputs": [
    {
     "name": "stdout",
     "output_type": "stream",
     "text": [
      "Selected points: [[441 199]\n",
      " [539 296]\n",
      " [370 378]\n",
      " [428 578]]\n",
      "Real coordinates: [[ 20.  24.]\n",
      " [ 70.  48.]\n",
      " [ 50.  96.]\n",
      " [100. 137.]]\n"
     ]
    }
   ],
   "source": [
    "\n",
    "# Define the callback function for mouse events\n",
    "def mouse_callback(event, x, y, flags, params):\n",
    "    # If left button is clicked, record the point coordinates\n",
    "    if event == cv2.EVENT_LBUTTONDOWN:\n",
    "        try:\n",
    "            params['points'].append([x, y])\n",
    "            cv2.circle(params['img_select_points'], (x, y), 5, (0, 0, 255), -1)\n",
    "            x,y = input('Enter the real coordinates of the point in the format: x, y: ').split(',')\n",
    "            params['real_coords'].append([float(x), float(y)])\n",
    "        except:\n",
    "            print('Invalid input')\n",
    "            params['points'].pop()\n",
    "            cv2.circle(params['img_select_points'], (x, y), 5, (0, 0, 0), -1)\n",
    "            if len(params['real_coords']) > params['points']:\n",
    "                params['real_coords'].pop()\n",
    "\n",
    "# Create a window and set the mouse callback function\n",
    "def select_points_from_image(img_src, no_of_points=4):\n",
    "    img_select_points = img_src.copy()\n",
    "    cv2.namedWindow('image')\n",
    "    params = {'points': [], 'real_coords': [], 'img_select_points': img_select_points}\n",
    "    cv2.setMouseCallback('image', mouse_callback, params)\n",
    "\n",
    "    # Display the image and wait for user to select points\n",
    "    while True:\n",
    "        cv2.imshow('image', img_select_points)\n",
    "        if cv2.waitKey(1) & 0xFF == ord('q'):\n",
    "            break\n",
    "        if len(params['points']) == no_of_points:\n",
    "            break\n",
    "\n",
    "    selected_pts = np.array(params['points']) \n",
    "    real_coords =  np.array(params['real_coords'])\n",
    "\n",
    "    # Print the selected points\n",
    "    print('Selected points:', selected_pts)\n",
    "    print('Real coordinates:', real_coords)\n",
    "    cv2.destroyAllWindows()\n",
    "    return selected_pts, real_coords\n",
    "\n",
    "pts_selected, coords_real = select_points_from_image(img_src_4_points, 4)"
   ]
  },
  {
   "attachments": {},
   "cell_type": "markdown",
   "metadata": {},
   "source": [
    "## Calculate homography matrix and Warp image based on it"
   ]
  },
  {
   "cell_type": "code",
   "execution_count": 4,
   "metadata": {},
   "outputs": [
    {
     "name": "stdout",
     "output_type": "stream",
     "text": [
      "Homography Matrix:\n",
      " [[ 5.18716362e-01  5.81657973e-01 -3.09228413e+02]\n",
      " [-2.07863840e-01  7.81188723e-01 -2.14580752e+01]\n",
      " [ 8.54253329e-04  1.94495598e-03  1.00000000e+00]]\n"
     ]
    }
   ],
   "source": [
    "def calculate_homography_and_warp(selected_pts, real_coords,img_src, plane_size, no_of_points=4):\n",
    "    # Calculate Homography\n",
    "    h, status = cv2.findHomography(selected_pts, real_coords)\n",
    "\n",
    "\n",
    "    print('Homography Matrix:\\n', h)\n",
    "    # Warp source image to destination based on homography\n",
    "    im_out = cv2.warpPerspective(img_src, h, plane_size)\n",
    "\n",
    "    cv2.imwrite(f'images/warped_image_{no_of_points}_points.jpg', im_out)\n",
    "    # Display images\n",
    "    cv2.imshow(\"Source Image\", img_src)\n",
    "    cv2.imshow(\"Warped Source Image\", im_out)\n",
    "\n",
    "    cv2.waitKey(0)\n",
    "\n",
    "    cv2.destroyAllWindows()\n",
    "    return h\n",
    "\n",
    "selected_pts = np.array(pts_selected) \n",
    "real_coords =  np.array(coords_real)\n",
    "homography_matrix = calculate_homography_and_warp(selected_pts, real_coords,img_src_4_points, plane_size)"
   ]
  },
  {
   "attachments": {},
   "cell_type": "markdown",
   "metadata": {},
   "source": [
    "## Warp results with 4 points"
   ]
  },
  {
   "attachments": {},
   "cell_type": "markdown",
   "metadata": {},
   "source": [
    "### Original Image\n",
    "![](./images/homography_1.jpg)\n",
    "\n",
    "### Warped Image\n",
    "![](./images/warped_image_4_points.jpg)"
   ]
  },
  {
   "attachments": {},
   "cell_type": "markdown",
   "metadata": {},
   "source": [
    "## Select two points on the image and calculate real distance and real coords on plane"
   ]
  },
  {
   "cell_type": "code",
   "execution_count": 5,
   "metadata": {},
   "outputs": [
    {
     "name": "stdout",
     "output_type": "stream",
     "text": [
      "Point 1: [442 199] -> [20.88953407 24.68938929]\n",
      "Point 2: [540 297] -> [70.21938193 47.86923564]\n",
      "Euclidean Distance between points : 54.50448757605261  mm\n"
     ]
    }
   ],
   "source": [
    "\n",
    "def point_select_and_dist(img_select_points, h):\n",
    "    \n",
    "    def midpoint(p1, p2):\n",
    "        return (round((p1[0]+p2[0])/2), round((p1[1]+p2[1])/2))\n",
    "\n",
    "    def mouse_callback(event, x, y, flags, params):\n",
    "        # If left button is clicked, record the point coordinates\n",
    "        if event == cv2.EVENT_LBUTTONDOWN:\n",
    "            point_in_image = np.array([x, y])\n",
    "            params['image_coords'].append(point_in_image)\n",
    "            # Convert the point to homogeneous coordinates\n",
    "            point_hom = np.append(point_in_image, 1)\n",
    "            # Compute the corresponding point in planar coordinates\n",
    "            point_in_planar = np.dot(h, point_hom)\n",
    "            point_in_planar /= point_in_planar[2] # Normalize the point  \n",
    "            point_in_planar = point_in_planar[:2] # Remove the third coordinate\n",
    "            params['planar_coords'].append(point_in_planar)\n",
    "            cv2.circle(img_select_points, (x, y), 5, (255, 0, 0), -1)\n",
    "            cv2.putText(img_select_points, str(point_in_planar), (x + 1, y + 1), cv2.FONT_HERSHEY_PLAIN, 1, (255, 0, 0), 2, cv2.LINE_AA)\n",
    "\n",
    "    # Create a window and set the mouse callback function\n",
    "    cv2.namedWindow('image')\n",
    "    params = {'image_coords': [], 'planar_coords': []}\n",
    "    cv2.setMouseCallback('image', mouse_callback, params)\n",
    "\n",
    "    # Display the image and wait for user to select points\n",
    "    while True:\n",
    "        cv2.imshow('image', img_select_points)\n",
    "        if cv2.waitKey(1) & 0xFF == ord('q'):\n",
    "            break\n",
    "        if len(params['image_coords']) == 2:\n",
    "            break\n",
    "\n",
    "    cv2.destroyWindow('image')\n",
    "    # Print the selected points\n",
    "    print('Point 1:', params['image_coords'][0], '->', params['planar_coords'][0])\n",
    "    print('Point 2:', params['image_coords'][1], '->', params['planar_coords'][1])\n",
    "    distance = np.linalg.norm(params['planar_coords'][0] - params['planar_coords'][1])\n",
    "    print('Euclidean Distance between points :', distance, ' mm')\n",
    "\n",
    "    # draw a line in between the two points\n",
    "    cv2.line(img_select_points, tuple(params['image_coords'][0]), tuple(params['image_coords'][1]), (0, 255, 0), 2)\n",
    "    middle_point_of_line = midpoint(params['image_coords'][0], params['image_coords'][1])\n",
    "    cv2.putText(img_select_points, str(distance), middle_point_of_line, cv2.FONT_HERSHEY_PLAIN, 1, (0, 0, 0), 2, cv2.LINE_8)\n",
    "\n",
    "    cv2.imshow('image_with_dist', img_select_points)\n",
    "    cv2.imwrite('images/line_with_dist_4_points.jpg', img_select_points)\n",
    "    cv2.waitKey(0)\n",
    "\n",
    "    # Close all windows\n",
    "    cv2.destroyAllWindows()\n",
    "\n",
    "img_select_points = img_src_4_points.copy()\n",
    "point_select_and_dist(img_select_points,homography_matrix)"
   ]
  },
  {
   "attachments": {},
   "cell_type": "markdown",
   "metadata": {},
   "source": [
    "# Image with distance between two points\n",
    "Its quite accurate! \n",
    "\n",
    "![ayo](./images/line_with_dist_4_points.jpg)"
   ]
  },
  {
   "attachments": {},
   "cell_type": "markdown",
   "metadata": {},
   "source": [
    "## Introducing the same plane but now with 10 points"
   ]
  },
  {
   "cell_type": "code",
   "execution_count": 6,
   "metadata": {},
   "outputs": [
    {
     "name": "stdout",
     "output_type": "stream",
     "text": [
      "Selected points: [[429  65]\n",
      " [724 105]\n",
      " [555 151]\n",
      " [672 249]\n",
      " [507 157]\n",
      " [388 190]\n",
      " [393 238]\n",
      " [508 419]\n",
      " [239 287]\n",
      " [ 96 327]]\n",
      "Real coordinates: [[ 20.  24.]\n",
      " [100.   8.]\n",
      " [ 70.  48.]\n",
      " [110.  77.]\n",
      " [ 60.  57.]\n",
      " [ 40.  80.]\n",
      " [ 50.  96.]\n",
      " [100. 137.]\n",
      " [ 30. 129.]\n",
      " [ 10. 152.]]\n"
     ]
    }
   ],
   "source": [
    "img_src_10_points = cv2.imread(\"images/homography_3.jpg\")\n",
    "\n",
    "pts_selected_10, coords_real_10 = select_points_from_image(img_src_10_points,10)\n"
   ]
  },
  {
   "attachments": {},
   "cell_type": "markdown",
   "metadata": {},
   "source": [
    "## Calculate homography matrix and Warp image based on it (again)"
   ]
  },
  {
   "cell_type": "code",
   "execution_count": 7,
   "metadata": {},
   "outputs": [
    {
     "name": "stdout",
     "output_type": "stream",
     "text": [
      "Homography Matrix:\n",
      " [[ 2.83478608e-01  3.34965953e-01 -1.21636584e+02]\n",
      " [-1.31099593e-01  5.93000080e-01  4.34686251e+01]\n",
      " [ 3.70891185e-05  1.46104550e-03  1.00000000e+00]]\n"
     ]
    }
   ],
   "source": [
    "selected_pts_10 = np.array(pts_selected_10) \n",
    "real_coords_10 =  np.array(coords_real_10)\n",
    "homography_matrix = calculate_homography_and_warp(selected_pts_10, real_coords_10,img_src_10_points, plane_size, 10)"
   ]
  },
  {
   "attachments": {},
   "cell_type": "markdown",
   "metadata": {},
   "source": [
    "## Warp results with 10 points\n",
    "\n",
    "### Original Image\n",
    "![](./images/homography_3.jpg)\n",
    "\n",
    "### Warped Image\n",
    "![](./images/warped_image_10_points.jpg)"
   ]
  },
  {
   "cell_type": "code",
   "execution_count": 8,
   "metadata": {},
   "outputs": [
    {
     "name": "stdout",
     "output_type": "stream",
     "text": [
      "Point 1: [238 288] -> [ 29.58958693 128.04272554]\n",
      "Point 2: [ 95 328] -> [ 10.22610255 152.0949176 ]\n",
      "Euclidean Distance between points : 30.878025685621836  mm\n"
     ]
    }
   ],
   "source": [
    "img_select_points = img_src_10_points.copy()\n",
    "point_select_and_dist(img_select_points,homography_matrix)\n"
   ]
  },
  {
   "attachments": {},
   "cell_type": "markdown",
   "metadata": {},
   "source": [
    "## Establish a wrong correspondence in the points and their real coordinates, without applying RANSAC\n"
   ]
  },
  {
   "cell_type": "code",
   "execution_count": 15,
   "metadata": {},
   "outputs": [
    {
     "name": "stdout",
     "output_type": "stream",
     "text": [
      "Homography Matrix:\n",
      "] [[-3.68627403e+01 -5.74448326e+01  2.00734791e+04]\n",
      " [-3.81351415e+00 -8.76908164e+01  8.94502331e+03]\n",
      " [-2.08747394e-01 -3.14024278e-01  1.00000000e+00]]\n"
     ]
    }
   ],
   "source": [
    "def calculate_homography_with_wrong_correspondence_and_warp(selected_pts, real_coords,img_src, plane_size, number_of_wrongs, use_ransac=False):\n",
    "    # Calculate Homography\n",
    "    # swap the points to see the effect of wrong correspondence\n",
    "    selected_pts_deep_copy = selected_pts.copy()\n",
    "    real_coords_deep_copy = real_coords.copy()\n",
    "\n",
    "    for i in range(number_of_wrongs):\n",
    "        selected_pts_deep_copy[i], selected_pts_deep_copy[i+1] = selected_pts_deep_copy[i+1], selected_pts_deep_copy[i]\n",
    "    \n",
    "    h = None\n",
    "    if use_ransac:\n",
    "        h, status = cv2.findHomography(selected_pts_deep_copy, real_coords_deep_copy, cv2.RANSAC, 5.0)\n",
    "    else:\n",
    "        h, status = cv2.findHomography(selected_pts_deep_copy, real_coords_deep_copy)\n",
    "\n",
    "\n",
    "    print('Homography Matrix:\\n]', h)\n",
    "    # Warp source image to destination based on homography\n",
    "    im_out = cv2.warpPerspective(img_src, h, plane_size)\n",
    "\n",
    "    cv2.imwrite(f'images/warped_image_with_{number_of_wrongs + 1}_wrong_cor{\"RANSAC\" if use_ransac else \"NO_RANSAC\"}.jpg', im_out)\n",
    "    # Display images\n",
    "    cv2.imshow(\"Source Image\", img_src)\n",
    "    cv2.imshow(\"Warped Source Image\", im_out)\n",
    "\n",
    "    cv2.waitKey(0)\n",
    "\n",
    "    cv2.destroyAllWindows()\n",
    "    return h\n",
    "\n",
    "homography_matrix = calculate_homography_with_wrong_correspondence_and_warp(selected_pts_10, real_coords_10,img_src_10_points, plane_size, 3, use_ransac=False)\n"
   ]
  },
  {
   "attachments": {},
   "cell_type": "markdown",
   "metadata": {},
   "source": [
    "We get an image with a pretty silly perspective\n",
    "Now, let's try to apply RANSAC."
   ]
  },
  {
   "cell_type": "code",
   "execution_count": 14,
   "metadata": {},
   "outputs": [
    {
     "name": "stdout",
     "output_type": "stream",
     "text": [
      "Homography Matrix:\n",
      "] [[ 3.64485217e-01  4.52391114e-01 -1.66206655e+02]\n",
      " [-1.26052381e-01  7.69879914e-01  2.69595066e+01]\n",
      " [ 2.93927380e-04  2.22074487e-03  1.00000000e+00]]\n"
     ]
    }
   ],
   "source": [
    "homography_matrix = calculate_homography_with_wrong_correspondence_and_warp(selected_pts_10, real_coords_10,img_src_10_points, plane_size, 3, use_ransac=True)\n"
   ]
  },
  {
   "attachments": {},
   "cell_type": "markdown",
   "metadata": {},
   "source": [
    "We see that RANSAC was able to detect the wrong correspondeces we introduced, and so the wrapped image produced is one with a correct frontal perspective display."
   ]
  },
  {
   "attachments": {},
   "cell_type": "markdown",
   "metadata": {},
   "source": [
    "### Image with 2 wrong correspondences without RANSAC\n",
    "![](./images/warped_image_with_2_wrong_corNO_RANSAC.jpg)\n",
    "\n",
    "###  Image with 2 wrong correspondences with RANSAC\n",
    "![](./images/warped_image_with_2_wrong_corRANSAC.jpg)\n"
   ]
  }
 ],
 "metadata": {
  "kernelspec": {
   "display_name": "Python 3",
   "language": "python",
   "name": "python3"
  },
  "language_info": {
   "codemirror_mode": {
    "name": "ipython",
    "version": 3
   },
   "file_extension": ".py",
   "mimetype": "text/x-python",
   "name": "python",
   "nbconvert_exporter": "python",
   "pygments_lexer": "ipython3",
   "version": "3.8.3"
  },
  "orig_nbformat": 4
 },
 "nbformat": 4,
 "nbformat_minor": 2
}
