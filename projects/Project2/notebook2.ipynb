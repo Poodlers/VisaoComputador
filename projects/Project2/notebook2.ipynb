{
 "cells": [
  {
   "attachments": {},
   "cell_type": "markdown",
   "metadata": {},
   "source": [
    "# Image Colorization as pre-training task"
   ]
  },
  {
   "cell_type": "code",
   "execution_count": 3,
   "metadata": {},
   "outputs": [],
   "source": [
    "from torchvision import datasets, transforms\n",
    "from torch.utils.data import Dataset, DataLoader\n",
    "from skimage.color import lab2rgb, rgb2lab, rgb2gray\n",
    "from sklearn.metrics import f1_score, accuracy_score, recall_score, precision_score,confusion_matrix\n",
    "import numpy as np\n",
    "import torch\n",
    "import torch.nn as nn\n",
    "import os\n",
    "import matplotlib.pyplot as plt\n",
    "import time\n",
    "import torch.nn.init as init\n",
    "import torch.nn.functional as F\n",
    "import torch.optim as optim\n",
    "import torchvision.models as models"
   ]
  },
  {
   "cell_type": "code",
   "execution_count": 4,
   "metadata": {},
   "outputs": [
    {
     "name": "stdout",
     "output_type": "stream",
     "text": [
      "cpu\n"
     ]
    }
   ],
   "source": [
    "device = torch.device(\"cuda\" if torch.cuda.is_available() else \"cpu\")\n",
    "print(device)"
   ]
  },
  {
   "attachments": {},
   "cell_type": "markdown",
   "metadata": {},
   "source": [
    "## Creating the dataset"
   ]
  },
  {
   "cell_type": "code",
   "execution_count": 5,
   "metadata": {},
   "outputs": [],
   "source": [
    "class CIFAR10Dataset(Dataset):\n",
    "    def __init__(self, split='train', transform=None):\n",
    "        if split == 'train':\n",
    "            cifar_dataset = datasets.CIFAR10(root='./data', train=True, download=True)\n",
    "        elif split == 'test':\n",
    "            cifar_dataset = datasets.CIFAR10(root='./data', train=False, download=True)\n",
    "        \n",
    "        self.data = []\n",
    "        self.labels = []\n",
    "        self.transform = transform\n",
    "        \n",
    "        for i, (img, label) in enumerate(cifar_dataset):\n",
    "            img_gray = rgb2gray(np.array(img)) # convert to lightness channel\n",
    "            self.data.append(img_gray)\n",
    "            self.labels.append(label)\n",
    "            \n",
    "        self.data = np.array(self.data)\n",
    "        self.labels = np.array(self.labels)\n",
    "       \n",
    "    \n",
    "    def __len__(self):\n",
    "        return len(self.data)\n",
    "    \n",
    "    def __getitem__(self, idx):\n",
    "        img = self.data[idx]\n",
    "        label = self.labels[idx]\n",
    "\n",
    "\n",
    "        if self.transform:\n",
    "            img = self.transform(img)\n",
    "        \n",
    "        return img, label\n",
    "    "
   ]
  },
  {
   "cell_type": "code",
   "execution_count": 6,
   "metadata": {},
   "outputs": [
    {
     "name": "stdout",
     "output_type": "stream",
     "text": [
      "Files already downloaded and verified\n",
      "Files already downloaded and verified\n"
     ]
    }
   ],
   "source": [
    "train_transform = transforms.Compose([\n",
    "    #transforms.RandomHorizontalFlip(), # isto depois da erro no type dos dados, ver pq e corrigir\n",
    "    transforms.ToTensor()\n",
    "])\n",
    "\n",
    "test_transform = transforms.Compose([\n",
    "    transforms.ToTensor()\n",
    "])\n",
    "\n",
    "trainset = CIFAR10Dataset(split='train', transform=train_transform)\n",
    "\n",
    "testset = CIFAR10Dataset(split='test', transform=test_transform)\n",
    "\n",
    "\n",
    "batch_size = 32\n",
    "\n",
    "trainloader = DataLoader(trainset, batch_size=batch_size)\n",
    "\n",
    "testloader = DataLoader(testset, batch_size=batch_size)\n",
    "\n"
   ]
  },
  {
   "cell_type": "code",
   "execution_count": 7,
   "metadata": {},
   "outputs": [
    {
     "name": "stdout",
     "output_type": "stream",
     "text": [
      "(1, 32, 32)\n",
      "tensor(3, dtype=torch.int32) -> ()\n"
     ]
    }
   ],
   "source": [
    "# choose a picture at random\n",
    "im_minibatch, label_minibatch = next(iter(testloader))\n",
    "im, label = im_minibatch[0].cpu(), label_minibatch[0].cpu()\n",
    "\n",
    "# store image size dimensions\n",
    "image_size = tuple(im.shape)\n",
    "label_size = tuple(label.shape)\n",
    "\n",
    "print(image_size)\n",
    "print(label, \"->\" ,label_size)"
   ]
  },
  {
   "attachments": {},
   "cell_type": "markdown",
   "metadata": {},
   "source": [
    "### Preparing the Model"
   ]
  },
  {
   "cell_type": "code",
   "execution_count": 14,
   "metadata": {},
   "outputs": [],
   "source": [
    "def initialize_parameters_random(layer):\n",
    "        for module in layer.modules():\n",
    "            if isinstance(module, nn.Conv2d) or isinstance(module, nn.Linear):\n",
    "                init.kaiming_normal_(module.weight)  # Randomly initialize weights\n",
    "                if module.bias is not None:\n",
    "                    init.constant_(module.bias, 0)  # Initialize biases to zeros\n",
    "\n",
    "class ClassificationNet(nn.Module):             \n",
    "    def __init__(self,random_initialization):\n",
    "        super(ClassificationNet, self).__init__()\n",
    "        MIDLEVEL_FEATURE_SIZE = 2048\n",
    "        num_classes = 10\n",
    "\n",
    "        ## First half: ResNet\n",
    "        resnet = models.resnet18(num_classes=365) \n",
    "        # Change first conv layer to accept single-channel (grayscale) input\n",
    "        resnet.conv1.weight = nn.Parameter(resnet.conv1.weight.sum(dim=1).unsqueeze(1)) \n",
    "        # Extract midlevel features from ResNet-gray\n",
    "        self.midlevel_resnet = nn.Sequential(*list(resnet.children())[0:6])\n",
    "        \n",
    "        ## Second half: Classification\n",
    "        \n",
    "        self.classifier = nn.Sequential(\n",
    "                nn.Linear(MIDLEVEL_FEATURE_SIZE, MIDLEVEL_FEATURE_SIZE // 4),\n",
    "                # add intermediate layer\n",
    "                nn.ReLU(),\n",
    "                nn.Linear(MIDLEVEL_FEATURE_SIZE // 4, num_classes),\n",
    "                nn.Softmax(dim=1)\n",
    "            )\n",
    "        \n",
    "        if random_initialization:\n",
    "            initialize_parameters_random(self.classifier)\n",
    "            initialize_parameters_random(self.midlevel_resnet)\n",
    "        else:\n",
    "            # initialize the weights of the classifier\n",
    "            initialize_parameters_random(self.classifier)\n",
    "            \n",
    "\n",
    "    def forward(self, input):\n",
    "        # Pass input through the encoder (modified ResNet)\n",
    "        features = self.midlevel_resnet(input)\n",
    "        features = features.view(features.size(0), -1)  # Flatten the features\n",
    "        \n",
    "        # Pass the flattened features through the classifier\n",
    "        output = self.classifier(features)\n",
    "        \n",
    "        return output  \n"
   ]
  },
  {
   "attachments": {},
   "cell_type": "markdown",
   "metadata": {},
   "source": [
    "## Initialize the weights randomly"
   ]
  },
  {
   "cell_type": "code",
   "execution_count": null,
   "metadata": {},
   "outputs": [],
   "source": [
    "model_random_init = ClassificationNet(random_initialization=True)\n",
    "\n",
    "criterion = nn.MSELoss()\n",
    "\n",
    "optimizer = torch.optim.Adam(model_random_init.parameters(), lr=0.001)\n",
    "\n",
    "model_random_init.to(device)"
   ]
  },
  {
   "attachments": {},
   "cell_type": "markdown",
   "metadata": {},
   "source": [
    "## Defining the training loop"
   ]
  },
  {
   "cell_type": "code",
   "execution_count": 16,
   "metadata": {},
   "outputs": [],
   "source": [
    "\n",
    "\n",
    "def train_model(model, trainloader, testloader, num_epochs=20):\n",
    "    start=time.time()\n",
    "    losses = []\n",
    "    for epoch in range(0,num_epochs):\n",
    "\n",
    "        model.train()  # Put the network in train mode\n",
    "        for i, (x_batch, y_batch) in enumerate(trainloader):\n",
    "            x_batch, y_batch = x_batch.to(device).float(), y_batch.to(device).long()  # Move the data to the device that is used\n",
    "\n",
    "            optimizer.zero_grad()  # Set all currenly stored gradients to zero \n",
    "            # convert y_batch to one hot encoding\n",
    "            y_batch = F.one_hot(y_batch, num_classes=10)\n",
    "\n",
    "            y_pred = model(x_batch)\n",
    "      \n",
    "            loss = criterion(y_pred.float(), y_batch.float())\n",
    "\n",
    "            loss.backward()\n",
    "\n",
    "            optimizer.step()\n",
    "\n",
    "            # Compute relevant metrics\n",
    "\n",
    "            elapsed = time.time() - start  # Keep track of how much time has elapsed\n",
    "\n",
    "            # Show progress every 75 batches \n",
    "            if not i % 75:\n",
    "                print(f'epoch: {epoch}, time: {elapsed:.3f}s, loss: {loss.item()}')\n",
    "\n",
    "        \n",
    "\n",
    "        model.eval()  # Put the network in eval mode\n",
    "        f1_score_epoch = 0\n",
    "        accuracy_epoch = 0\n",
    "        recall_epoch = 0\n",
    "        precision_epoch = 0\n",
    "\n",
    "        for i, (x_batch, y_batch) in enumerate(testloader):\n",
    "            x_batch, y_batch = x_batch.to(device).float(), y_batch.to(device).long()  \n",
    "            # convert y_batch to one hot encoding\n",
    "        \n",
    "            y_batch = F.one_hot(y_batch, num_classes=10)\n",
    "            y_pred = model(x_batch)\n",
    "\n",
    "            loss = criterion(y_pred.float(), y_batch.float())\n",
    "\n",
    "            # Convert y_batch and y_pred to their respective classes\n",
    "            y_batch = torch.argmax(y_batch, dim=1)\n",
    "            y_pred = torch.argmax(y_pred, dim=1)\n",
    "\n",
    "            f1 = f1_score(y_batch.cpu(), y_pred.cpu(), average='weighted', zero_division=0)\n",
    "            accuracy = accuracy_score(y_batch.cpu(), y_pred.cpu())\n",
    "            recall = recall_score(y_batch.cpu(), y_pred.cpu(), average='weighted', zero_division=0)\n",
    "            precision = precision_score(y_batch.cpu(), y_pred.cpu(), average='weighted', zero_division=0)\n",
    "\n",
    "            f1_score_epoch += f1\n",
    "            accuracy_epoch += accuracy\n",
    "            recall_epoch += recall\n",
    "            precision_epoch += precision\n",
    "\n",
    "            # Do something with the calculated scores\n",
    "            \n",
    "        # Example: Print the scores for each \n",
    "        f1_score_epoch = f1_score_epoch / len(testloader)\n",
    "        accuracy_epoch = accuracy_epoch / len(testloader)\n",
    "        recall_epoch = recall_epoch / len(testloader)\n",
    "        precision_epoch = precision_epoch / len(testloader)\n",
    "\n",
    "        print(f\"Epoch {epoch+1}: F1 Score: {f1_score_epoch:.4f}, Accuracy: {accuracy_epoch:.4f}, Recall: {recall_epoch:.4f}, Precision: {precision_epoch:.4f}\")\n",
    "        \n",
    "\n",
    "        print(f'loss: {loss.item()}')\n",
    "        losses.append(loss.item())\n",
    "\n",
    "    return losses"
   ]
  },
  {
   "attachments": {},
   "cell_type": "markdown",
   "metadata": {},
   "source": [
    "## Training with random parameters\n"
   ]
  },
  {
   "cell_type": "code",
   "execution_count": null,
   "metadata": {},
   "outputs": [],
   "source": [
    "losses_random_init = train_model(model_random_init, trainloader, testloader, num_epochs=25)"
   ]
  },
  {
   "attachments": {},
   "cell_type": "markdown",
   "metadata": {},
   "source": [
    "### Extract metrics from the testset (randomized parameters)"
   ]
  },
  {
   "cell_type": "code",
   "execution_count": 29,
   "metadata": {},
   "outputs": [],
   "source": [
    "def extract_metrics(model, testloader, losses):\n",
    "    model.eval()  # Put the network in eval mode\n",
    " \n",
    "    y_pred_list = []\n",
    "    y_batch_list = []\n",
    "\n",
    "    for i, (x_batch, y_batch) in enumerate(testloader):\n",
    "        x_batch, y_batch = x_batch.to(device).float(), y_batch.to(device).long()  \n",
    "        # convert y_batch to one hot encoding\n",
    "\n",
    "        y_batch = F.one_hot(y_batch, num_classes=10)\n",
    "        y_pred = model(x_batch)\n",
    "\n",
    "        loss = criterion(y_pred.float(), y_batch.float())\n",
    "\n",
    "        # Convert y_batch and y_pred to their respective classes\n",
    "        y_batch = torch.argmax(y_batch, dim=1)\n",
    "        y_pred = torch.argmax(y_pred, dim=1)\n",
    "\n",
    "        y_pred_list.append(y_pred.cpu())\n",
    "        y_batch_list.append(y_batch.cpu())\n",
    "\n",
    "    y_pred_list = torch.cat(y_pred_list, dim=0)\n",
    "    y_batch_list = torch.cat(y_batch_list, dim=0)\n",
    "    # confusion matrix\n",
    "    print(\"accuracy: \", accuracy_score(y_batch_list, y_pred_list))\n",
    "    print(\"f1 score: \", f1_score(y_batch_list, y_pred_list, average='weighted'))\n",
    "    print(\"recall: \", recall_score(y_batch_list, y_pred_list, average='weighted'))\n",
    "    print(\"precision: \", precision_score(y_batch_list, y_pred_list, average='weighted'))\n",
    "    print(confusion_matrix(y_batch_list, y_pred_list))\n",
    "\n",
    "    #plot loss vs epoch graph\n",
    "    #plt.plot(losses)\n",
    "    #plt.title('loss vs epochs')\n",
    "    #plt.xlabel('epochs')\n",
    "    #plt.ylabel('loss')\n",
    "\n"
   ]
  },
  {
   "cell_type": "code",
   "execution_count": null,
   "metadata": {},
   "outputs": [],
   "source": [
    "extract_metrics(model_random_init, testloader, losses_random_init)"
   ]
  },
  {
   "attachments": {},
   "cell_type": "markdown",
   "metadata": {},
   "source": [
    "## Training model with loaded weights"
   ]
  },
  {
   "cell_type": "code",
   "execution_count": 20,
   "metadata": {},
   "outputs": [],
   "source": [
    "# function for loaduing weights of a trained model\n",
    "def load_weights(weights_dir):\n",
    "    files = os.listdir(weights_dir)\n",
    "    weight_paths = [os.path.join(weights_dir, basename) for basename in files]\n",
    "    # get the latest file in the directory\n",
    "    final_weight_file = os.path.basename(max(weight_paths, key=os.path.getctime))\n",
    "\n",
    "    # first model needs to be loaded\n",
    "    model = ClassificationNet(random_initialization=False).to(device)\n",
    "\n",
    "    # fixes odd error when state_dict has prescript \"model.\"\" in keys\n",
    "    state_dict = torch.load(os.path.join(weights_dir, final_weight_file), map_location=device)\n",
    "    for key in list(state_dict.keys()):\n",
    "        if key.startswith(\"model.\"):\n",
    "            state_dict[key[6:]] = state_dict.pop(key)\n",
    "     \n",
    "    model.load_state_dict(state_dict, strict=False)\n",
    "    \n",
    "    print('Loaded weights: ' + final_weight_file)\n",
    "    \n",
    "    return model"
   ]
  },
  {
   "cell_type": "code",
   "execution_count": 24,
   "metadata": {},
   "outputs": [
    {
     "name": "stdout",
     "output_type": "stream",
     "text": [
      "Loaded weights: epoch-40_accuracy-0.0.pth\n"
     ]
    }
   ],
   "source": [
    "model_loaded_weights = load_weights('weights')\n",
    "criterion = nn.MSELoss()\n",
    "\n",
    "optimizer = torch.optim.Adam(model_loaded_weights.parameters(), lr=0.001)\n",
    "\n"
   ]
  },
  {
   "attachments": {},
   "cell_type": "markdown",
   "metadata": {},
   "source": [
    "## Train the image colorization model and extract metrics"
   ]
  },
  {
   "cell_type": "code",
   "execution_count": null,
   "metadata": {},
   "outputs": [],
   "source": [
    "losses_loaded_weights = train_model(model_loaded_weights, trainloader, testloader, num_epochs=25)"
   ]
  },
  {
   "cell_type": "code",
   "execution_count": null,
   "metadata": {},
   "outputs": [],
   "source": [
    "extract_metrics(model_loaded_weights, testloader, losses_loaded_weights)"
   ]
  },
  {
   "attachments": {},
   "cell_type": "markdown",
   "metadata": {},
   "source": [
    "## Data Visualization"
   ]
  },
  {
   "cell_type": "code",
   "execution_count": 39,
   "metadata": {},
   "outputs": [
    {
     "data": {
      "image/png": "[encoded data removed]",
      "text/plain": [
       "<Figure size 432x288 with 1 Axes>"
      ]
     },
     "metadata": {
      "needs_background": "light"
     },
     "output_type": "display_data"
    },
    {
     "data": {
      "image/png": "[encoded data removed]",
      "text/plain": [
       "<Figure size 432x288 with 1 Axes>"
      ]
     },
     "metadata": {
      "needs_background": "light"
     },
     "output_type": "display_data"
    }
   ],
   "source": [
    "\n",
    "# list of metrics for each epoch for the pretrained model\n",
    "f1_scores_pretrained = [0.6429, 0.6514, 0.6526, 0.6576, 0.6620, 0.6642, 0.6782, 0.6795, 0.6836, 0.6868, 0.6881, 0.6913, 0.6932, 0.6924, 0.6989, 0.7123, 0.7123, 0.7125, 0.7128, 0.7129, 0.7128, 0.7128,0.7128,0.7128,0.7128]\n",
    "accuracy_pretrained = [0.6494, 0.6535, 0.6578, 0.6641, 0.6687, 0.6690, 0.6783, 0.6843, 0.6883,\n",
    "                        0.6886, 0.6905, 0.6936, 0.6957, 0.6938, 0.6965, 0.7023, 0.7036, 0.7036, 0.7036, 0.7036, 0.7036, 0.7036,  0.7036,0.7036,0.7036]\n",
    "\n",
    "# list of metrics for each epoch for the random initialization model\n",
    "\n",
    "f1_scores_random_init = [0.5907, 0.5952, 0.6131, 0.6272, 0.6203, 0.6550, 0.6638, 0.6447, 0.6621, 0.6710, 0.6886, 0.6818, 0.6801, 0.6867, 0.6890, 0.6747, 0.6844, 0.6883, 0.6899, 0.6931, 0.6964, 0.6964,0.6964,0.6964,0.6964]\n",
    "accuracy_random_init = [0.5991, 0.5972, 0.6137, 0.6329, 0.6271, 0.6550, 0.6653,\n",
    "                         0.6454, 0.6638, 0.6762, 0.6906, 0.6866, 0.6832, 0.6856, 0.6914, 0.6812, 0.6912, 0.6922, 0.6939, 0.6946,0.6990,0.6990,0.6990,0.6990, 0.6990]\n",
    "\n",
    "\n",
    "# draw graph of f1_score, accuracy, recall and precision vs epoch\n",
    "\n",
    "plt.plot(f1_scores_pretrained, label='f1_score_pretrained')\n",
    "plt.plot(f1_scores_random_init, label='f1_score_random_init')\n",
    "plt.title('f1_score vs epochs')\n",
    "plt.xlabel('epochs')\n",
    "plt.ylabel('f1_score')\n",
    "plt.legend()\n",
    "plt.show()\n",
    "\n",
    "\n",
    "plt.plot(accuracy_pretrained, label='accuracy_pretrained')\n",
    "plt.plot(accuracy_random_init, label='accuracy_random_init')\n",
    "plt.title('accuracy vs epochs')\n",
    "plt.xlabel('epochs')\n",
    "plt.ylabel('accuracy')\n",
    "plt.legend()\n",
    "plt.show()\n",
    "\n",
    "\n"
   ]
  }
 ],
 "metadata": {
  "kernelspec": {
   "display_name": "Python 3",
   "language": "python",
   "name": "python3"
  },
  "language_info": {
   "codemirror_mode": {
    "name": "ipython",
    "version": 3
   },
   "file_extension": ".py",
   "mimetype": "text/x-python",
   "name": "python",
   "nbconvert_exporter": "python",
   "pygments_lexer": "ipython3",
   "version": "3.8.3"
  },
  "orig_nbformat": 4
 },
 "nbformat": 4,
 "nbformat_minor": 2
}
